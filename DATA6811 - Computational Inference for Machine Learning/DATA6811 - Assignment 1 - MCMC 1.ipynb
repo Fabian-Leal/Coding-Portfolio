{
 "cells": [
  {
   "cell_type": "markdown",
   "metadata": {},
   "source": [
    "# MCMC Assessment Notebook -- Cohort 1, March 2021"
   ]
  },
  {
   "cell_type": "code",
   "execution_count": null,
   "metadata": {},
   "outputs": [],
   "source": [
    "%matplotlib notebook\n",
    "\n",
    "import time\n",
    "import numpy as np\n",
    "import matplotlib.pyplot as plt\n",
    "from scipy import linalg, stats"
   ]
  },
  {
   "cell_type": "markdown",
   "metadata": {},
   "source": [
    "## MCMC Assessment Problem:  MALA"
   ]
  },
  {
   "cell_type": "markdown",
   "metadata": {},
   "source": [
    "Given a distribution with density $p(\\theta)$ that is differentiable with respect to $\\theta$, consider a continuous-state-space Markov process of the form\n",
    "\n",
    "$$ \\theta_{n+1} = \\theta_n + \\frac{\\epsilon^2}{2} \\left. \\nabla_\\theta \\log p(\\theta) \\right|_{\\theta=\\theta_n} + \\epsilon u, \\hspace{0.5in} u \\sim N(0,1). $$\n",
    "\n",
    "(a) Implement this process in the case where $p(\\theta)$ is a unit Gaussian.  Yes, there are more interesting distributions but this one is easy to work with, and we'll have only one dimension so the gradient just becomes $\\partial/\\partial \\theta$.  Plot traces from your process for a few different values of $\\epsilon$ in the range 0.1 to 10.  Does this process have a unique stationary distribution, and if so, how different is that stationary distribution from $p(\\theta)$?\n",
    "\n",
    "(b) What is missing from this process that is needed to turn it into a MCMC scheme?  Add this to your implementation, and try sampling again from a unit Gaussian.  Comment on the resulting proposal's autocorrelation time relative to a regular Metropolis random walk with the same stepsize."
   ]
  },
  {
   "cell_type": "markdown",
   "metadata": {},
   "source": [
    "## General-purpose functions you are free to use throughout the notebook"
   ]
  },
  {
   "cell_type": "code",
   "execution_count": null,
   "metadata": {},
   "outputs": [],
   "source": [
    "# Some generally useful utility functions\n",
    "\n",
    "def profile_timer(f, *args, **kwargs):\n",
    "    \"\"\"\n",
    "    Times a function call f() and prints how long it took in seconds\n",
    "    (to the nearest millisecond).\n",
    "    :param func:  the function f to call\n",
    "    :return:  same return values as f\n",
    "    \"\"\"\n",
    "    t0 = time.time()\n",
    "    result = f(*args, **kwargs)\n",
    "    t1 = time.time()\n",
    "    print (\"time to run {}: {:.3f} sec\".format(f.__name__, t1-t0))\n",
    "    return result\n",
    "\n",
    "def movieify(plfunc, x, frame_idx, *args, **kwargs):\n",
    "    \"\"\"\n",
    "    Saves figures to a directory to be compiled as an animated GIF.\n",
    "    :param plfunc:  plotting function to call, which it is assumed\n",
    "        will initialize a new plt.figure() instance\n",
    "    :param x:  the input data to plfunc, as an np.array of shape\n",
    "        (Nsamples, ...); the function will take successive subsets\n",
    "        of the data to show the progress of sampling\n",
    "    \"\"\"\n",
    "    for Nf in frame_idx:\n",
    "        savefigfn = \"{}_frame_{:06d}.png\".format(plfunc.__name__, Nf)\n",
    "        plfunc(x[:Nf], *args, savefigfn=savefigfn, **kwargs)"
   ]
  },
  {
   "cell_type": "markdown",
   "metadata": {},
   "source": [
    "### Discrete autocorrelation function of a time series"
   ]
  },
  {
   "cell_type": "code",
   "execution_count": null,
   "metadata": {},
   "outputs": [],
   "source": [
    "def autocorr(x, D, plot=True):\n",
    "    \"\"\"\n",
    "    Discrete autocorrelation function + integrated autocorrelation time.\n",
    "    Calculates directly, though could be sped up using Fourier transforms.\n",
    "    See Daniel Foreman-Mackey's tutorial (based on notes from Alan Sokal):\n",
    "    https://emcee.readthedocs.io/en/stable/tutorials/autocorr/\n",
    "\n",
    "    :param x: np.array of data, of shape (Nsamples, Ndim)\n",
    "    :param D: number of return arrays\n",
    "    \"\"\"\n",
    "    # Baseline discrete autocorrelation:  whiten the data and calculate\n",
    "    # the mean sample correlation in each window\n",
    "    xp = np.atleast_2d(x)\n",
    "    z = (xp-np.mean(xp, axis=0))/np.std(xp, axis=0)\n",
    "    Ct = np.ones((D, z.shape[1]))\n",
    "    Ct[1:,:] = np.array([np.mean(z[i:]*z[:-i], axis=0) for i in range(1,D)])\n",
    "    # Integrated autocorrelation tau_hat as a function of cutoff window M\n",
    "    tau_hat = 1 + 2*np.cumsum(Ct, axis=0)\n",
    "    # Sokal's advice is to take the autocorrelation time calculated using\n",
    "    # the smallest integration limit M that's less than 5*tau_hat[M]\n",
    "    Mrange = np.arange(len(tau_hat))\n",
    "    tau = np.argmin(Mrange[:,None] - 5*tau_hat, axis=0)\n",
    "    print(\"tau =\", tau)\n",
    "    # Plot if requested\n",
    "    if plot:\n",
    "        fig = plt.figure(figsize=(6,4))\n",
    "        plt.plot(Ct)\n",
    "        plt.title('Discrete Autocorrelation ($\\\\tau = {:.1f}$)'.format(np.mean(tau)))\n",
    "    return np.array(Ct), tau"
   ]
  },
  {
   "cell_type": "markdown",
   "metadata": {},
   "source": [
    "### Trace plots (shows traces of all parameters with shared, resizeable axis limits)"
   ]
  },
  {
   "cell_type": "code",
   "execution_count": null,
   "metadata": {},
   "outputs": [],
   "source": [
    "def traceplots(x, xnames=None, title=None):\n",
    "    \"\"\"\n",
    "    Runs trace plots.\n",
    "    :param x:  np.array of shape (N, d)\n",
    "    :param xnames:  optional iterable of length d, containing the names\n",
    "        of variables making up the dimensions of x (used as y-axis labels)\n",
    "    :param title:  optional plot title\n",
    "    \"\"\"\n",
    "    # set out limits of plot spaces, in dimensionless viewport coordinates\n",
    "    # that run from 0 (bottom, left) to 1 (top, right) along both axes\n",
    "    N, d = x.shape\n",
    "    fig = plt.figure()\n",
    "    left, tracewidth, histwidth = 0.1, 0.65, 0.15\n",
    "    bottom, rowheight = 0.1, 0.8/d\n",
    "    spacing = 0.05\n",
    "    \n",
    "    for i in range(d):\n",
    "        # Set the location of the trace and histogram viewports,\n",
    "        # starting with the first dimension from the bottom of the canvas\n",
    "        rowbottom = bottom + i*rowheight\n",
    "        rect_trace = (left, rowbottom, tracewidth, rowheight)\n",
    "        rect_hist = (left + tracewidth, rowbottom, histwidth, rowheight)\n",
    "        # First set of trace plot axes\n",
    "        if i == 0:\n",
    "            ax_trace = fig.add_axes(rect_trace)\n",
    "            ax_trace.plot(x[:,i])\n",
    "            ax_trace.set_xlabel(\"Sample Count\")\n",
    "            ax_tr0 = ax_trace\n",
    "        # Other sets of trace plot axes that share the first trace's x-axis\n",
    "        # Make tick labels invisible so they don't clutter up the plot\n",
    "        elif i > 0:\n",
    "            ax_trace = fig.add_axes(rect_trace, sharex=ax_tr0)\n",
    "            ax_trace.plot(x[:,i])\n",
    "            plt.setp(ax_trace.get_xticklabels(), visible=False)\n",
    "        # Title at the top\n",
    "        if i == d-1 and title is not None:\n",
    "            plt.title(title)\n",
    "        # Trace y-axis labels\n",
    "        if xnames is not None:\n",
    "            ax_trace.set_ylabel(xnames[i])\n",
    "        # Trace histograms at the right\n",
    "        ax_hist = fig.add_axes(rect_hist, sharey=ax_trace)\n",
    "        ax_hist.hist(x[:,i], orientation='horizontal', bins=50)\n",
    "        plt.setp(ax_hist.get_xticklabels(), visible=False)\n",
    "        plt.setp(ax_hist.get_yticklabels(), visible=False)\n",
    "        xlim = ax_hist.get_xlim()\n",
    "        ax_hist.set_xlim([xlim[0], 1.1*xlim[1]])"
   ]
  },
  {
   "cell_type": "markdown",
   "metadata": {},
   "source": [
    "## Part (a)\n",
    "\n",
    "Since we are working in 1-D, and $p(\\theta)$ is a unit gaussian, the Markov process can be re-written as:\n",
    "\n",
    "$$ \\theta_{n+1} = \\left(1 - \\frac{\\epsilon^2}{2}\\right)\\theta_n + \\epsilon u,     \\hspace{0.5in} u \\sim \\mathcal{N}(0,1) $$\n",
    "\n",
    "Considering the arithmetic properties of the normal distribution, it is also true that:\n",
    "\n",
    "\n",
    "$$ \\theta_{n+1} \\sim \\mathcal{N}\\left((1 - \\frac{\\epsilon^2}{2})\\theta_n, \\epsilon^2\\right)$$"
   ]
  },
  {
   "cell_type": "markdown",
   "metadata": {},
   "source": [
    "So now we can implement the Markov chain:"
   ]
  },
  {
   "cell_type": "code",
   "execution_count": 198,
   "metadata": {},
   "outputs": [],
   "source": [
    "class MarkovProcess:\n",
    "    \n",
    "    def __init__(self, N, burn_in):\n",
    "        self.N = N\n",
    "        self.burn_in = burn_in\n",
    "    \n",
    "    def mp_step(self, theta_n, epsilon):\n",
    "        mean = (1-(epsilon**2)/2)*theta_n\n",
    "        std = epsilon\n",
    "        return np.random.normal(mean, std) \n",
    "\n",
    "    def mp(self, theta_0, epsilon):\n",
    "        chain = [theta_0]\n",
    "        for _ in range(self.N):\n",
    "            theta_n_plus_one = mp_step(chain[-1], epsilon)\n",
    "            chain.append(theta_n_plus_one)\n",
    "        retained_chain = chain[self.burn_in+1:]\n",
    "        return retained_chain\n",
    "\n",
    "\n",
    "    def traceplots(self, epsilon, xnames=None, title=None):\n",
    "        x = np.array(self.mp(0,epsilon)).reshape(self.N-self.burn_in,1)\n",
    "        N, d = x.shape\n",
    "        fig = plt.figure()\n",
    "        left, tracewidth, histwidth = 0.1, 0.65, 0.15\n",
    "        bottom, rowheight = 0.1, 0.8/d\n",
    "        spacing = 0.05\n",
    "\n",
    "        for i in range(d):\n",
    "            rowbottom = bottom + i*rowheight\n",
    "            rect_trace = (left, rowbottom, tracewidth, rowheight)\n",
    "            rect_hist = (left + tracewidth, rowbottom, histwidth, rowheight)\n",
    "            if i == 0:\n",
    "                ax_trace = fig.add_axes(rect_trace)\n",
    "                ax_trace.plot(x[:,i])\n",
    "                ax_trace.set_xlabel(\"Sample Count\")\n",
    "                ax_tr0 = ax_trace\n",
    "            elif i > 0:\n",
    "                ax_trace = fig.add_axes(rect_trace, sharex=ax_tr0)\n",
    "                ax_trace.plot(x[:,i])\n",
    "                plt.setp(ax_trace.get_xticklabels(), visible=False)\n",
    "            if i == d-1 and title is not None:\n",
    "                plt.title(title)\n",
    "            if xnames is not None:\n",
    "                ax_trace.set_ylabel(xnames[i])\n",
    "            ax_hist = fig.add_axes(rect_hist, sharey=ax_trace)\n",
    "            ax_hist.hist(x[:,i], orientation='horizontal', bins=50)\n",
    "            plt.setp(ax_hist.get_xticklabels(), visible=False)\n",
    "            plt.setp(ax_hist.get_yticklabels(), visible=False)\n",
    "            xlim = ax_hist.get_xlim()\n",
    "            ax_hist.set_xlim([xlim[0], 1.1*xlim[1]])\n",
    "            \n",
    "markovchain = MarkovProcess(1000000,100000)"
   ]
  },
  {
   "cell_type": "markdown",
   "metadata": {},
   "source": [
    "We now show traceplots of the Markov process for $\\epsilon \\in$ {0.1, 1.2, 1.8, 1.9, 1.999, 2.0, 2.1}. The original intention was to run ten iterations, from 0.1 to 10 with a step of 1.1. But in the following traceplots, we can see how for low values of $\\epsilon$, the chain distributes like a unit gaussian, and as it gets bigger, the variance starts growing until the process no longer converges to a unique stationary distribution, and we are unable to plot it."
   ]
  },
  {
   "cell_type": "code",
   "execution_count": 199,
   "metadata": {},
   "outputs": [
    {
     "data": {
      "image/png": "[encoded data removed]",
      "text/plain": [
       "<Figure size 432x288 with 2 Axes>"
      ]
     },
     "metadata": {
      "needs_background": "light"
     },
     "output_type": "display_data"
    }
   ],
   "source": [
    "epsilon = 0.1\n",
    "markovchain.traceplots(epsilon, title=\"Traceplot for epsilon = %.1f\" %epsilon)"
   ]
  },
  {
   "cell_type": "code",
   "execution_count": 200,
   "metadata": {},
   "outputs": [
    {
     "data": {
      "image/png": "[encoded data removed]",
      "text/plain": [
       "<Figure size 432x288 with 2 Axes>"
      ]
     },
     "metadata": {
      "needs_background": "light"
     },
     "output_type": "display_data"
    }
   ],
   "source": [
    "epsilon = 1.2\n",
    "markovchain.traceplots(epsilon, title=\"Traceplot for epsilon = %.1f\" %epsilon)"
   ]
  },
  {
   "cell_type": "code",
   "execution_count": 201,
   "metadata": {},
   "outputs": [
    {
     "data": {
      "image/png": "[encoded data removed]",
      "text/plain": [
       "<Figure size 432x288 with 2 Axes>"
      ]
     },
     "metadata": {
      "needs_background": "light"
     },
     "output_type": "display_data"
    }
   ],
   "source": [
    "epsilon = 1.9\n",
    "markovchain.traceplots(epsilon, title=\"Traceplot for epsilon = %.4f\" %epsilon)\n"
   ]
  },
  {
   "cell_type": "code",
   "execution_count": 170,
   "metadata": {},
   "outputs": [
    {
     "data": {
      "image/png": "[encoded data removed]",
      "text/plain": [
       "<Figure size 432x288 with 2 Axes>"
      ]
     },
     "metadata": {
      "needs_background": "light"
     },
     "output_type": "display_data"
    }
   ],
   "source": [
    "epsilon = 1.999\n",
    "markovchain.traceplots(epsilon, title=\"Traceplot for epsilon = %.4f\" %epsilon)"
   ]
  },
  {
   "cell_type": "code",
   "execution_count": 202,
   "metadata": {},
   "outputs": [
    {
     "data": {
      "image/png": "[encoded data removed]",
      "text/plain": [
       "<Figure size 432x288 with 2 Axes>"
      ]
     },
     "metadata": {
      "needs_background": "light"
     },
     "output_type": "display_data"
    }
   ],
   "source": [
    "epsilon = 2\n",
    "markovchain.traceplots(epsilon, title=\"Traceplot for epsilon = %.4f\" %epsilon)"
   ]
  },
  {
   "cell_type": "code",
   "execution_count": null,
   "metadata": {},
   "outputs": [],
   "source": [
    "epsilon = 2.1\n",
    "markovchain.traceplots(epsilon, title=\"Traceplot for epsilon = %.4f\" %epsilon)"
   ]
  },
  {
   "cell_type": "code",
   "execution_count": 403,
   "metadata": {},
   "outputs": [
    {
     "data": {
      "image/png": "[encoded data removed]",
      "text/plain": [
       "<Figure size 432x288 with 1 Axes>"
      ]
     },
     "metadata": {
      "needs_background": "light"
     },
     "output_type": "display_data"
    }
   ],
   "source": [
    "sample = np.array(markovchain.mp(0,0.1))[:,np.newaxis]\n",
    "\n",
    "import matplotlib.pyplot as plt\n",
    "import numpy as np\n",
    "import scipy.stats as stats\n",
    "import math\n",
    "\n",
    "mu = 0\n",
    "variance = 1\n",
    "sigma = math.sqrt(variance)\n",
    "x = np.linspace(mu - 2*sigma, mu + 2*sigma, 100)\n",
    "plt.plot(x, stats.norm.pdf(x, mu, sigma))\n",
    "plt.hist(sample,500,alpha=0.8)\n",
    "plt.show()\n",
    "\n",
    "\n",
    "\n"
   ]
  },
  {
   "cell_type": "markdown",
   "metadata": {},
   "source": [
    "To observe this numerically, we can calculate the mean and variance of each chain, for the previous values of $\\epsilon$, to see exactly how similar these chains distributions are to a $\\mathcal{N}(0,1) $. The `meanvariance`function was created to aid us on this."
   ]
  },
  {
   "cell_type": "code",
   "execution_count": 190,
   "metadata": {},
   "outputs": [],
   "source": [
    "def meanvariance(chain):\n",
    "    mean = np.mean(np.array(chain))\n",
    "    variance = np.var(np.array(chain))\n",
    "    return round(mean,2), round(variance,2)"
   ]
  },
  {
   "cell_type": "code",
   "execution_count": 195,
   "metadata": {},
   "outputs": [
    {
     "name": "stdout",
     "output_type": "stream",
     "text": [
      "For epsilon = 0.1 the chain has mean and variance (0.02, 1.01)\n",
      "For epsilon = 1.2 the chain has mean and variance (-0.0, 1.56)\n",
      "For epsilon = 1.8 the chain has mean and variance (-0.0, 5.27)\n",
      "For epsilon = 1.9 the chain has mean and variance (0.0, 10.28)\n",
      "For epsilon = 1.999 the chain has mean and variance (-0.0, 972.1)\n",
      "For epsilon = 2.0 the chain has mean and variance (-0.0, 1353298.52)\n",
      "For epsilon = 2.1 the chain has mean and variance (nan, nan)\n"
     ]
    }
   ],
   "source": [
    "values = [0.1, 1.2, 1.8, 1.9, 1.999, 2.0, 2.1]\n",
    "for epsilon in values:\n",
    "    print(\"For epsilon =\", epsilon, \"the chain has mean and variance\", meanvariance(markovchain.mp(0,epsilon)))"
   ]
  },
  {
   "cell_type": "markdown",
   "metadata": {},
   "source": [
    "The plots and `meanvariance` show that this Markov process is always centered close to 0, and in the case of $\\epsilon = 0.1$, it is almost identical to $p(\\theta)$, with a variance only 1% higher, and a mean very close to 0. Up until $\\epsilon = 1.999$, even though the variance grows, the distributions are still comparable to a normal distribution. But for $\\epsilon > 1.999$, the chain doesn't have a unique stationary distribution, and it has nothing in common with any normal distribution, even less so with $p(\\theta)$."
   ]
  },
  {
   "cell_type": "markdown",
   "metadata": {},
   "source": [
    "## Part (b)\n",
    "\n",
    "The process from part (a) accepts every new sample that is generated. We suspect that the constant big steps are what's preventing this process from reaching a unique stationary distribution. Putting it into a MCMC scheme will make it less likely to take big steps, since we will have an acceptance criteria that, the bigger the step, the less likely it is to be taken."
   ]
  },
  {
   "cell_type": "markdown",
   "metadata": {},
   "source": [
    "We will implement the M-H algorithm. In this case, we're sampling $\\theta_{n+1}$ from $\\mathcal{N}\\left((1 - \\frac{\\epsilon^2}{2})\\theta_n, \\epsilon^2\\right)$.\n",
    "\n",
    "The M-H acceptance ratio for this implementation is: \n",
    "\n",
    "$$\\frac{p(\\theta_{n+1})q(\\theta_n\\mid\\theta_{n+1})}{p(\\theta_n)q(\\theta_{n+1}\\mid\\theta_n)}$$\n",
    "\n",
    "Where $$q(\\theta_{n+1}\\mid\\theta_n) = \\frac{1}{\\sqrt{2\\pi\\epsilon}}exp\\left(\\frac{-\\left(\\theta_{n+1} - \\left( 1- \\frac{\\epsilon^2}{2}\\right)\\theta_n\\right)^2}{2\\epsilon^2}\\right)$$\n",
    "\n",
    "Note that we are considering q for this acceptance ratio because this proposal is asymmetric ($q(\\theta\\rightarrow \\theta') \\neq (q(\\theta' \\rightarrow \\theta)$)."
   ]
  },
  {
   "cell_type": "code",
   "execution_count": 359,
   "metadata": {},
   "outputs": [],
   "source": [
    "class Metropolis:\n",
    "    \n",
    "    def __init__(self, N, burn_in, method):\n",
    "        self.method = method\n",
    "        self.N = N\n",
    "        self.burn_in = burn_in\n",
    "    \n",
    "    def mh_step(self, theta_n, epsilon):\n",
    "        mean = (1-(epsilon**2)/2)*theta_n\n",
    "        std = epsilon\n",
    "        return np.random.normal(mean, std) \n",
    "    \n",
    "    #N(0,1) density\n",
    "    def p(self, theta_n):\n",
    "        return 1/np.sqrt(2*np.pi) * np.exp(-0.5*(theta_n)**2)\n",
    "    \n",
    "    def q(self,theta_input, theta_n, epsilon):\n",
    "        return 1/np.sqrt(2*np.pi*epsilon)*np.exp(-1*(theta_input - (1-(epsilon**2)/2)*theta_n)**2/(2*epsilon**2))\n",
    "    \n",
    "    #MALA\n",
    "    def mh(self, theta_0, epsilon):\n",
    "        chain = [theta_0]\n",
    "        for _ in range(self.N):\n",
    "\n",
    "            theta_n_plus_one = self.mh_step(chain[-1], epsilon)\n",
    "            theta_n = chain[-1]\n",
    "            \n",
    "            p_prop = self.p(theta_n_plus_one)\n",
    "            p_curr = self.p(theta_n)\n",
    "            \n",
    "            q_prop = self.q(theta_n_plus_one, theta_n, epsilon)\n",
    "            q_curr = self.q(theta_n, theta_n_plus_one, epsilon)\n",
    "            \n",
    "            alpha = min(1, p_prop*q_curr/(p_curr*q_prop))\n",
    "            \n",
    "            if alpha >= np.random.random():\n",
    "                chain.append(theta_n_plus_one)\n",
    "                \n",
    "            else:\n",
    "                chain.append(theta_n)\n",
    "                \n",
    "        retained_chain = chain[self.burn_in+1:]\n",
    "        return retained_chain\n",
    "    \n",
    "    #regular Metropolis random walk\n",
    "    def mrw(self,epsilon):\n",
    "        samples = [0]\n",
    "        for _ in range(self.N):\n",
    "            sample = samples[-1]\n",
    "\n",
    "            #Candidate, same stepsize\n",
    "            candidate = np.random.normal(sample, epsilon)\n",
    "\n",
    "            #Probability of accepting candidate theta' \n",
    "            prob = min(1, self.p(candidate)/self.p(sample))\n",
    "\n",
    "            #Test acceptance\n",
    "            if np.random.random() < prob:\n",
    "                samples.append(candidate)\n",
    "            else: \n",
    "                samples.append(sample)\n",
    " \n",
    "        retained_samples = samples[self.burn_in+1:]\n",
    "        return retained_samples\n",
    "    \n",
    "    def traceplots(self, epsilon, xnames=None, title=None):\n",
    "        if self.method == \"mh\":\n",
    "            x = np.array(self.mh(0,epsilon)).reshape(self.N-self.burn_in,1)\n",
    "        else:\n",
    "            x = np.array(self.mrw(0)).reshape(self.N-self.burn_in,1)    \n",
    "        N, d = x.shape\n",
    "        fig = plt.figure()\n",
    "        left, tracewidth, histwidth = 0.1, 0.65, 0.15\n",
    "        bottom, rowheight = 0.1, 0.8/d\n",
    "        spacing = 0.05\n",
    "\n",
    "        for i in range(d):\n",
    "            rowbottom = bottom + i*rowheight\n",
    "            rect_trace = (left, rowbottom, tracewidth, rowheight)\n",
    "            rect_hist = (left + tracewidth, rowbottom, histwidth, rowheight)\n",
    "            if i == 0:\n",
    "                ax_trace = fig.add_axes(rect_trace)\n",
    "                ax_trace.plot(x[:,i])\n",
    "                ax_trace.set_xlabel(\"Sample Count\")\n",
    "                ax_tr0 = ax_trace\n",
    "            elif i > 0:\n",
    "                ax_trace = fig.add_axes(rect_trace, sharex=ax_tr0)\n",
    "                ax_trace.plot(x[:,i])\n",
    "                plt.setp(ax_trace.get_xticklabels(), visible=False)\n",
    "            if i == d-1 and title is not None:\n",
    "                plt.title(title)\n",
    "            if xnames is not None:\n",
    "                ax_trace.set_ylabel(xnames[i])\n",
    "            ax_hist = fig.add_axes(rect_hist, sharey=ax_trace)\n",
    "            ax_hist.hist(x[:,i], orientation='horizontal', bins=50)\n",
    "            plt.setp(ax_hist.get_xticklabels(), visible=False)\n",
    "            plt.setp(ax_hist.get_yticklabels(), visible=False)\n",
    "            xlim = ax_hist.get_xlim()\n",
    "            ax_hist.set_xlim([xlim[0], 1.1*xlim[1]])\n",
    "            \n",
    "    def autocorr(self, epsilon, D, plot=False):\n",
    "        \"\"\"\n",
    "        Discrete autocorrelation function + integrated autocorrelation time.\n",
    "        Calculates directly, though could be sped up using Fourier transforms.\n",
    "        See Daniel Foreman-Mackey's tutorial (based on notes from Alan Sokal):\n",
    "        https://emcee.readthedocs.io/en/stable/tutorials/autocorr/\n",
    "\n",
    "        :param x: np.array of data, of shape (Nsamples, Ndim)\n",
    "        :param D: maximum autocorrelation lag (integer, less than Nsamples)\n",
    "        \"\"\"\n",
    "        # Baseline discrete autocorrelation:  whiten the data and calculate\n",
    "        # the mean sample correlation in each window\n",
    "        if D > self.N:\n",
    "            print('D must be less than N')\n",
    "            return 0\n",
    "        else:\n",
    "            if self.method == \"mh\":\n",
    "                x = self.mh(0,epsilon)\n",
    "            else:\n",
    "                x = self.mrw(epsilon)\n",
    "            xp = np.atleast_2d(np.array(x).reshape(self.N-self.burn_in,1))\n",
    "            z = (xp-np.mean(xp, axis=0))/np.std(xp, axis=0)\n",
    "            Ct = np.ones((D, z.shape[1]))\n",
    "            Ct[1:,:] = np.array([np.mean(z[i:]*z[:-i], axis=0) for i in range(1,D)])\n",
    "            # Integrated autocorrelation tau_hat as a function of cutoff window M\n",
    "            tau_hat = 1 + 2*np.cumsum(Ct, axis=0)\n",
    "            # Sokal's advice is to take the autocorrelation time calculated using\n",
    "            # the smallest integration limit M that's less than 5*tau_hat[M]\n",
    "            Mrange = np.arange(len(tau_hat))\n",
    "            tau = np.argmin(Mrange[:,None] - 5*tau_hat, axis=0)\n",
    "            # Plot if requested\n",
    "            if plot:\n",
    "                fig = plt.figure(figsize=(6,4))\n",
    "                plt.plot(Ct)\n",
    "                plt.title('Discrete Autocorrelation ($\\\\tau = {:.1f}$)'.format(np.mean(tau)))\n",
    "                plt.show()\n",
    "            return tau\n",
    "\n",
    "            \n",
    "                \n",
    "                \n",
    "mh = Metropolis(100000, 10000, \"mh\")\n",
    "mrw = Metropolis(100000, 10000, \"mrw\")"
   ]
  },
  {
   "cell_type": "markdown",
   "metadata": {},
   "source": [
    "To ensure that these autocorrelation times are computed from the stationary distribution, we set a burn-in for each chain of 10000 samples. "
   ]
  },
  {
   "cell_type": "code",
   "execution_count": 386,
   "metadata": {},
   "outputs": [
    {
     "name": "stdout",
     "output_type": "stream",
     "text": [
      "[665]\n",
      "[137]\n",
      "[65]\n",
      "[38]\n",
      "[25]\n",
      "[7]\n",
      "[5]\n",
      "[5]\n",
      "[4]\n",
      "[5]\n"
     ]
    }
   ],
   "source": [
    "#Metropolis random walk autocorrelation times\n",
    "values = [0.1, 0.2, 0.3, 0.4, 0.5, 1.2, 1.8, 1.9, 1.999, 2.0]\n",
    "for epsilon in values:\n",
    "    print(mrw.autocorr(epsilon, 5000, False))\n"
   ]
  },
  {
   "cell_type": "code",
   "execution_count": 387,
   "metadata": {},
   "outputs": [
    {
     "name": "stdout",
     "output_type": "stream",
     "text": [
      "[493]\n",
      "[114]\n",
      "[48]\n",
      "[28]\n",
      "[16]\n",
      "[1]\n",
      "[1]\n",
      "[1]\n",
      "[1]\n",
      "[1]\n"
     ]
    }
   ],
   "source": [
    "#MALA autocorrelation times\n",
    "values = [0.1, 0.2, 0.3, 0.4, 0.5, 1.2, 1.8, 1.9, 1.999, 2.0]\n",
    "for epsilon in values:\n",
    "    print(mh.autocorr(epsilon, 5000, False))\n"
   ]
  },
  {
   "cell_type": "markdown",
   "metadata": {},
   "source": [
    "\n",
    "\n",
    "The autocorrelation time of the MALA implementation is lower than the autocorrelation time of the MRW for every tested value of $\\epsilon$ (tested only from 0.1 to 2 because for $\\epsilon > 2$, none of the methods sample properly). \n",
    "\n",
    "The autocorrelation time measures how much time it takes for each process to \"forget\" where it started.\n",
    "\n",
    "There are only two fundamental differences between these two processes: \n",
    "\n",
    "a) The mean of the distribution $\\theta_{n+1}$ is sampled from: to be more precise, there is an additional factor $\\left(1-\\frac{\\epsilon^2}{2}\\right)$ on the MALA algorithm that multiplies the $\\theta_n$ on its distributions mean.\n",
    "\n",
    "b) The acceptance ratio\n",
    "\n",
    "When we consider a), there is a very intuitive reason that explains why MALA \"forgets\" where it started faster than the MRW. In each $\\theta_{n+1}$ sample, the MRW algorithm is sampling from a normal distribution that is centered exactly at the last value of the chain ($\\theta_n$), but for $\\epsilon > 0$, the MALA algorithm's sampling distribution is always centered in a different place than $\\theta_n$, which means that in each MALA step, $\\theta_{n+1}$ is less related to $\\theta_n$ than in the case of MRW steps, which obviously makes it \"forget\" $\\theta_0$ faster."
   ]
  }
 ],
 "metadata": {
  "kernelspec": {
   "display_name": "Python 3 (ipykernel)",
   "language": "python",
   "name": "python3"
  },
  "language_info": {
   "codemirror_mode": {
    "name": "ipython",
    "version": 3
   },
   "file_extension": ".py",
   "mimetype": "text/x-python",
   "name": "python",
   "nbconvert_exporter": "python",
   "pygments_lexer": "ipython3",
   "version": "3.7.11"
  }
 },
 "nbformat": 4,
 "nbformat_minor": 2
}
